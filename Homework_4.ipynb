{
 "metadata": {
  "name": "Homework_4"
 },
 "nbformat": 3,
 "nbformat_minor": 0,
 "worksheets": [
  {
   "cells": [
    {
     "cell_type": "code",
     "collapsed": false,
     "input": "import pandas as pd\nimport sklearn\n\ninsults_training = pd.read_csv('/Users/juffelman/Documents/GA Data Science/homework/Homework 4/train-utf8.csv', \n                               delimiter = ',', header = 0, quotechar = '\"', encoding = 'utf-8')\n\ninsults_testing = pd.read_csv('/Users/juffelman/Documents/GA Data Science/homework/Homework 4/test-utf8.csv', \n                               delimiter = ',', header = 0, quotechar = '\"', encoding = 'utf-8')\n",
     "language": "python",
     "metadata": {},
     "outputs": [],
     "prompt_number": 131
    },
    {
     "cell_type": "code",
     "collapsed": false,
     "input": "from sklearn.feature_extraction.text import CountVectorizer\nfrom sklearn import cross_validation\n\nvectorizer = CountVectorizer(lowercase = True, analyzer='word')\n\nx_raw = vectorizer.fit_transform(insults_training.Comment)\n\nX_train, X_test, y_train, y_test = cross_validation.train_test_split(x_raw,\n                                                                     insults_training.Insult, test_size=0.2, random_state=0)\n\n#X_train = vectorizer.fit_transform(insults_training.Comment)\n#Y_train = insults_training.Insult",
     "language": "python",
     "metadata": {},
     "outputs": [],
     "prompt_number": 96
    },
    {
     "cell_type": "code",
     "collapsed": false,
     "input": "from sklearn.linear_model import LogisticRegression\n\nclf = LogisticRegression().fit(X_train, y_train)\n\n#clf.score(X_test, y_test)\n\nmetrics.roc_auc_score(y_test, clf.predict(X_test))",
     "language": "python",
     "metadata": {},
     "outputs": [
      {
       "metadata": {},
       "output_type": "pyout",
       "prompt_number": 141,
       "text": "0.78830802180685366"
      }
     ],
     "prompt_number": 141
    },
    {
     "cell_type": "code",
     "collapsed": false,
     "input": "#test_data = vectorizer.fit_transform(insults_testing.Comment)\n\n#clf.predict_proba(test_data)",
     "language": "python",
     "metadata": {},
     "outputs": [],
     "prompt_number": 136
    },
    {
     "cell_type": "code",
     "collapsed": false,
     "input": "",
     "language": "python",
     "metadata": {},
     "outputs": []
    }
   ],
   "metadata": {}
  }
 ]
}